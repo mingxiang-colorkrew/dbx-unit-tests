{
 "cells": [
  {
   "cell_type": "markdown",
   "metadata": {},
   "source": [
    "## Notebook 1"
   ]
  },
  {
   "cell_type": "code",
   "execution_count": null,
   "metadata": {},
   "outputs": [],
   "source": [
    "default_name = \"unknown\"\n",
    "\n",
    "# use notebook param\n",
    "dbutils.widgets.text(\"name\", default_name, \"Enter user name\")\n",
    "user_name = dbutils.widgets.get(\"name\")\n",
    "\n",
    "if user_name == \"unknown\":\n",
    "  greeting = \"ERROR\"\n",
    "else:\n",
    "  greeting = f\"Hello {user_name}\"\n",
    "\n",
    "dbutils.notebook.exit(greeting)"
   ]
  }
 ],
 "metadata": {
  "kernelspec": {
   "display_name": "Python 3.10.6 64-bit",
   "language": "python",
   "name": "python3"
  },
  "language_info": {
   "name": "python",
   "version": "3.10.6"
  },
  "orig_nbformat": 4,
  "vscode": {
   "interpreter": {
    "hash": "5ed2712fe50cbb91fd8b8a7750e98355a0f745cc313ecacaebb1facde0d64006"
   }
  }
 },
 "nbformat": 4,
 "nbformat_minor": 2
}
