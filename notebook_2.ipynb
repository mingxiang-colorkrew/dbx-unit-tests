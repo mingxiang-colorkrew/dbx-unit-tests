{
 "cells": [
  {
   "cell_type": "code",
   "execution_count": null,
   "metadata": {},
   "outputs": [],
   "source": [
    "from pyspark.sql import SparkSession\n",
    "\n",
    "\n",
    "def generate_data(table_name=\"test_table\"):\n",
    "  df = SparkSession.getActiveSession().range(0,10)\n",
    "  df.write.format(\"delta\").mode(\"overwrite\").saveAsTable(table_name)\n",
    "\n",
    "generate_data()"
   ]
  }
 ],
 "metadata": {
  "kernelspec": {
   "display_name": "Python 3.10.6 64-bit",
   "language": "python",
   "name": "python3"
  },
  "language_info": {
   "name": "python",
   "version": "3.10.6"
  },
  "orig_nbformat": 4,
  "vscode": {
   "interpreter": {
    "hash": "5ed2712fe50cbb91fd8b8a7750e98355a0f745cc313ecacaebb1facde0d64006"
   }
  }
 },
 "nbformat": 4,
 "nbformat_minor": 2
}
