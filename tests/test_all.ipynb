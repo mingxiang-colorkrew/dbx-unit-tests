{
 "cells": [
  {
   "cell_type": "code",
   "execution_count": null,
   "metadata": {},
   "outputs": [],
   "source": [
    "from runtime.nutterfixture import NutterFixture, tag\n",
    "\n",
    "default_timeout = 600\n",
    "\n",
    "class TestAllFixture(NutterFixture):\n",
    "  def __init__(self):\n",
    "    self.first = ''\n",
    "    self.second = ''\n",
    "    self.table_name = \"test_table\"\n",
    "    NutterFixture.__init__(self)\n",
    "    \n",
    "  def run_first(self):\n",
    "    self.first = dbutils.notebook.run('./notebook_1', default_timeout, {'name': 'world'})\n",
    "    \n",
    "  def assertion_first(self):\n",
    "    assert(self.first == \"Hello world\")\n",
    "\n",
    "  def run_second(self):\n",
    "    self.second = dbutils.notebook.run('./notebook_2', default_timeout)\n",
    "\n",
    "  def assertion_name2(self):\n",
    "    assert(self.code1_result == \"error\")\n",
    "\n",
    "  def after_code2(self):\n",
    "    spark.sql(f\"DROP TABLE {self.test_table}\")\n",
    "\n",
    "# COMMAND ----------\n",
    "\n",
    "result = TestAllFixture().execute_tests()\n",
    "print(result.to_string())\n",
    "\n",
    "# Comment out the next line (result.exit(dbutils)) to see the test result report from within the notebook\n",
    "\n",
    "# push to br2\n",
    "\n",
    "is_job = dbutils.notebook.entry_point.getDbutils().notebook().getContext().currentRunId().isDefined()\n",
    "if is_job:\n",
    "  result.exit(dbutils)"
   ]
  }
 ],
 "metadata": {
  "kernelspec": {
   "display_name": "Python 3.10.6 64-bit",
   "language": "python",
   "name": "python3"
  },
  "language_info": {
   "name": "python",
   "version": "3.10.6"
  },
  "orig_nbformat": 4,
  "vscode": {
   "interpreter": {
    "hash": "5ed2712fe50cbb91fd8b8a7750e98355a0f745cc313ecacaebb1facde0d64006"
   }
  }
 },
 "nbformat": 4,
 "nbformat_minor": 2
}
